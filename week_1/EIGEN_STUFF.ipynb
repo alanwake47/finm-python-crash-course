{
 "cells": [
  {
   "cell_type": "markdown",
   "metadata": {},
   "source": []
  },
  {
   "cell_type": "code",
   "execution_count": 4,
   "metadata": {},
   "outputs": [],
   "source": [
    "import sympy as sp\n",
    "import numpy as np\n",
    "from scipy.integrate import quad\n",
    "from numpy import exp, log, inf, e\n",
    "from sympy import init_printing\n",
    "init_printing()\n",
    "from fractions import Fraction"
   ]
  },
  {
   "cell_type": "code",
   "execution_count": 67,
   "metadata": {},
   "outputs": [
    {
     "data": {
      "text/latex": [
       "$\\displaystyle \\left[\\begin{matrix}1 & 1 & 1 & 1\\\\0.5 & -0.666666666666667 & 0.25 & 0\\\\0.25 & 0.333333333333333 & -0.75 & 0\\end{matrix}\\right]$"
      ],
      "text/plain": [
       "⎡ 1            1             1    1⎤\n",
       "⎢                                  ⎥\n",
       "⎢0.5   -0.666666666666667  0.25   0⎥\n",
       "⎢                                  ⎥\n",
       "⎣0.25  0.333333333333333   -0.75  0⎦"
      ]
     },
     "execution_count": 67,
     "metadata": {},
     "output_type": "execute_result"
    }
   ],
   "source": [
    "A_b = sp.Matrix([[1,1,1,1],[1/2,-2/3,1/4,0],[1/4,1/3,-3/4,0]])\n",
    "A_b"
   ]
  },
  {
   "cell_type": "code",
   "execution_count": 68,
   "metadata": {},
   "outputs": [
    {
     "data": {
      "text/latex": [
       "$\\displaystyle \\left( \\left[\\begin{matrix}1 & 0 & 0 & 0.350877192982456\\\\0 & 1 & 0 & 0.368421052631579\\\\0 & 0 & 1 & 0.280701754385965\\end{matrix}\\right], \\  \\left( 0, \\  1, \\  2\\right)\\right)$"
      ],
      "text/plain": [
       "⎛⎡1  0  0  0.350877192982456⎤           ⎞\n",
       "⎜⎢                          ⎥           ⎟\n",
       "⎜⎢0  1  0  0.368421052631579⎥, (0, 1, 2)⎟\n",
       "⎜⎢                          ⎥           ⎟\n",
       "⎝⎣0  0  1  0.280701754385965⎦           ⎠"
      ]
     },
     "execution_count": 68,
     "metadata": {},
     "output_type": "execute_result"
    }
   ],
   "source": [
    "A_b.rref()"
   ]
  },
  {
   "cell_type": "code",
   "execution_count": 69,
   "metadata": {},
   "outputs": [
    {
     "data": {
      "text/latex": [
       "$\\displaystyle \\left[\\begin{matrix}0.350549768518518 & 0.368778935185185 & 0.280671296296296\\end{matrix}\\right]$"
      ],
      "text/plain": [
       "[0.350549768518518  0.368778935185185  0.280671296296296]"
      ]
     },
     "execution_count": 69,
     "metadata": {},
     "output_type": "execute_result"
    }
   ],
   "source": [
    "A = sp.Matrix([[1/4,1/2,1/4],[1/3,1/3,1/3],[1/2,1/4,1/4]])\n",
    "B = sp.Matrix([[1,0,0]])\n",
    "B@A**4"
   ]
  },
  {
   "cell_type": "code",
   "execution_count": 70,
   "metadata": {},
   "outputs": [
    {
     "data": {
      "text/latex": [
       "$\\displaystyle \\left[\\begin{matrix}1 & 0 & 0\\end{matrix}\\right]$"
      ],
      "text/plain": [
       "[1  0  0]"
      ]
     },
     "execution_count": 70,
     "metadata": {},
     "output_type": "execute_result"
    }
   ],
   "source": [
    "A = sp.Matrix([[1/4,1/2,1/4],[1/3,1/3,1/3],[1/2,1/4,1/4]])\n",
    "B = sp.Matrix([[1,0,0]])\n",
    "B"
   ]
  },
  {
   "cell_type": "code",
   "execution_count": 217,
   "metadata": {},
   "outputs": [
    {
     "data": {
      "text/latex": [
       "$\\displaystyle \\left[\\begin{matrix}0.125 & 0.375 & 0.375 & 0.125\\\\0.25 & 0.5 & 0.25 & 0\\\\0.5 & 0.5 & 0 & 0\\\\1 & 0 & 0 & 0\\end{matrix}\\right]$"
      ],
      "text/plain": [
       "⎡0.125  0.375  0.375  0.125⎤\n",
       "⎢                          ⎥\n",
       "⎢0.25    0.5   0.25     0  ⎥\n",
       "⎢                          ⎥\n",
       "⎢ 0.5    0.5     0      0  ⎥\n",
       "⎢                          ⎥\n",
       "⎣  1      0      0      0  ⎦"
      ]
     },
     "execution_count": 217,
     "metadata": {},
     "output_type": "execute_result"
    }
   ],
   "source": [
    "C = sp.Matrix([[1/8,3/8,3/8,1/8],[1/4,1/2,1/4,0],[1/2,1/2,0,0],[1,0,0,0]])\n",
    "C"
   ]
  },
  {
   "cell_type": "code",
   "execution_count": 226,
   "metadata": {},
   "outputs": [
    {
     "data": {
      "image/png": "[encoded data removed]",
      "text/latex": [
       "$\\displaystyle \\left\\{ -0.5 : 1, \\  -0.125 : 1, \\  0.25 : 1, \\  1.0 : 1\\right\\}$"
      ],
      "text/plain": [
       "{-0.5: 1, -0.125: 1, 0.25: 1, 1.0: 1}"
      ]
     },
     "execution_count": 226,
     "metadata": {},
     "output_type": "execute_result"
    }
   ],
   "source": [
    "C.T.eigenvals()"
   ]
  },
  {
   "cell_type": "code",
   "execution_count": 234,
   "metadata": {},
   "outputs": [
    {
     "data": {
      "text/plain": [
       "array([0.2962963 , 0.44444444, 0.22222222, 0.03703704])"
      ]
     },
     "execution_count": 234,
     "metadata": {},
     "output_type": "execute_result"
    }
   ],
   "source": [
    "import scipy.linalg\n",
    "H= sp.matrix2numpy(C).astype(float)\n",
    "v,l=scipy.linalg.eig(H,right=False,left=True)\n",
    "pi = l[:,0]/sum(l[:,0])\n",
    "pi"
   ]
  },
  {
   "cell_type": "code",
   "execution_count": 183,
   "metadata": {},
   "outputs": [
    {
     "data": {
      "text/latex": [
       "$\\displaystyle \\left[\\begin{matrix}0.296296296296296\\\\0.444444444444444\\\\0.222222222222222\\\\0.037037037037037\\end{matrix}\\right]$"
      ],
      "text/plain": [
       "⎡0.296296296296296⎤\n",
       "⎢                 ⎥\n",
       "⎢0.444444444444444⎥\n",
       "⎢                 ⎥\n",
       "⎢0.222222222222222⎥\n",
       "⎢                 ⎥\n",
       "⎣0.037037037037037⎦"
      ]
     },
     "execution_count": 183,
     "metadata": {},
     "output_type": "execute_result"
    }
   ],
   "source": [
    "A=sp.Matrix([[-7/8,1/4,1/2,1,0],[3/8,-1/2,1/2,0,0],[3/8,1/4,-1,0,0],[1,1,1,1,1]])\n",
    "A.rref()[0][:,4]"
   ]
  },
  {
   "cell_type": "code",
   "execution_count": 188,
   "metadata": {},
   "outputs": [
    {
     "data": {
      "text/latex": [
       "$\\displaystyle \\left[\\begin{matrix}0.296296296296296 & 0.444444444444444 & 0.222222222222222 & 0.037037037037037\\end{matrix}\\right]$"
      ],
      "text/plain": [
       "[0.296296296296296  0.444444444444444  0.222222222222222  0.037037037037037]"
      ]
     },
     "execution_count": 188,
     "metadata": {},
     "output_type": "execute_result"
    }
   ],
   "source": [
    "A.rref()[0][:,4].T@C**3"
   ]
  },
  {
   "cell_type": "code",
   "execution_count": 198,
   "metadata": {},
   "outputs": [
    {
     "data": {
      "text/latex": [
       "$\\displaystyle \\left[\\begin{matrix}0.125 & 0.375 & 0.375 & 0.125\\\\0.25 & 0.5 & 0.25 & 0\\\\0.5 & 0.5 & 0 & 0\\\\1 & 0 & 0 & 0\\end{matrix}\\right]$"
      ],
      "text/plain": [
       "⎡0.125  0.375  0.375  0.125⎤\n",
       "⎢                          ⎥\n",
       "⎢0.25    0.5   0.25     0  ⎥\n",
       "⎢                          ⎥\n",
       "⎢ 0.5    0.5     0      0  ⎥\n",
       "⎢                          ⎥\n",
       "⎣  1      0      0      0  ⎦"
      ]
     },
     "execution_count": 198,
     "metadata": {},
     "output_type": "execute_result"
    }
   ],
   "source": [
    "C"
   ]
  },
  {
   "cell_type": "code",
   "execution_count": 199,
   "metadata": {},
   "outputs": [
    {
     "data": {
      "text/latex": [
       "$\\displaystyle \\left[\\begin{matrix}0.244140625 & 0.439453125 & 0.263671875 & 0.052734375\\end{matrix}\\right]$"
      ],
      "text/plain": [
       "[0.244140625  0.439453125  0.263671875  0.052734375]"
      ]
     },
     "execution_count": 199,
     "metadata": {},
     "output_type": "execute_result"
    }
   ],
   "source": [
    "(sp.Matrix([[1,0,0,0]])@C**3)"
   ]
  },
  {
   "cell_type": "code",
   "execution_count": 211,
   "metadata": {},
   "outputs": [],
   "source": [
    "m=5"
   ]
  },
  {
   "cell_type": "code",
   "execution_count": 216,
   "metadata": {},
   "outputs": [
    {
     "data": {
      "text/latex": [
       "$\\displaystyle \\left[ \\left( -0.2, \\  1, \\  \\left[ \\left[\\begin{matrix}0.788675134594813 & -0.211324865405187 & -0.577350269189626 & 9.30371831805656 \\cdot 10^{-65} & 0\\end{matrix}\\right]\\right]\\right), \\  \\left( 0.8 + 1.9750104650351 \\cdot 10^{-128} i, \\  1, \\  \\left[ \\left[\\begin{matrix}-0.447213595499958 + 9.15838504262051 \\cdot 10^{-65} i & -0.447213595499958 + 9.15838504262051 \\cdot 10^{-65} i & -0.447213595499958 + 9.15838504262051 \\cdot 10^{-65} i & -0.447213595499958 + 9.15838504262051 \\cdot 10^{-65} i & -0.447213595499958 + 9.15838504262051 \\cdot 10^{-65} i\\end{matrix}\\right]\\right]\\right), \\  \\left( -0.2 - 2.19455920039956 \\cdot 10^{-65} i, \\  1, \\  \\left[ \\left[\\begin{matrix}0.00382332236803214 - 0.0144383070002921 i & 0.322346366056672 - 0.641244390063955 i & -0.324497156278856 + 0.390892796234923 i & 0.208179923507597 - 0.121970645534198 i & -0.209852455653445 + 0.386760546363522 i\\end{matrix}\\right]\\right]\\right), \\  \\left( -0.2 - 4.50072943985681 \\cdot 10^{-65} i, \\  1, \\  \\left[ \\left[\\begin{matrix}0.248360481933461 + 0.646885487231821 i & 0.272021797743724 - 0.959300434124025 i & -0.0197695584219926 - 0.381761550894891 i & 0.237517583584122 + 0.61372913766919 i & -0.738130304839314 + 0.0804473601179058 i\\end{matrix}\\right]\\right]\\right), \\  \\left( -0.2 + 1.13329300817144 \\cdot 10^{-64} i, \\  1, \\  \\left[ \\left[\\begin{matrix}0.52258972086738 + 0.0756309802097889 i & 0.415604016643602 + 0.231010082374813 i & -0.155702061921265 - 0.0989969810308867 i & -0.2903896461451 - 0.647424031447357 i & -0.492102029444617 + 0.439779949893642 i\\end{matrix}\\right]\\right]\\right)\\right]$"
      ],
      "text/plain": [
       "[(-0.2, 1, [[0.788675134594813  -0.211324865405187  -0.577350269189626  9.3037\n",
       "1831805656e-65  0]]), (0.8 + 1.9750104650351e-128⋅ⅈ, 1, [[-0.447213595499958 +\n",
       " 9.15838504262051e-65⋅ⅈ  -0.447213595499958 + 9.15838504262051e-65⋅ⅈ  -0.44721\n",
       "3595499958 + 9.15838504262051e-65⋅ⅈ  -0.447213595499958 + 9.15838504262051e-65\n",
       "⋅ⅈ  -0.447213595499958 + 9.15838504262051e-65⋅ⅈ]]), (-0.2 - 2.19455920039956e-\n",
       "65⋅ⅈ, 1, [[0.00382332236803214 - 0.0144383070002921⋅ⅈ  0.322346366056672 - 0.6\n",
       "41244390063955⋅ⅈ  -0.324497156278856 + 0.390892796234923⋅ⅈ  0.208179923507597 \n",
       "- 0.121970645534198⋅ⅈ  -0.209852455653445 + 0.386760546363522⋅ⅈ]]), (-0.2 - 4.\n",
       "50072943985681e-65⋅ⅈ, 1, [[0.248360481933461 + 0.646885487231821⋅ⅈ  0.27202179\n",
       "7743724 - 0.959300434124025⋅ⅈ  -0.0197695584219926 - 0.381761550894891⋅ⅈ  0.23\n",
       "7517583584122 + 0.61372913766919⋅ⅈ  -0.738130304839314 + 0.0804473601179058⋅ⅈ]\n",
       "]), (-0.2 + 1.13329300817144e-64⋅ⅈ, 1, [[0.52258972086738 + 0.0756309802097889\n",
       "⋅ⅈ  0.415604016643602 + 0.231010082374813⋅ⅈ  -0.155702061921265 - 0.0989969810\n",
       "308867⋅ⅈ  -0.2903896461451 - 0.647424031447357⋅ⅈ  -0.492102029444617 + 0.43977\n",
       "9949893642⋅ⅈ]])]"
      ]
     },
     "execution_count": 216,
     "metadata": {},
     "output_type": "execute_result"
    }
   ],
   "source": [
    "sp.Matrix(np.ones((m,m))*1/m-np.eye(m)*1/m).left_eigenvects()"
   ]
  }
 ],
 "metadata": {
  "kernelspec": {
   "display_name": "Python 3.9.7 ('base')",
   "language": "python",
   "name": "python3"
  },
  "language_info": {
   "codemirror_mode": {
    "name": "ipython",
    "version": 3
   },
   "file_extension": ".py",
   "mimetype": "text/x-python",
   "name": "python",
   "nbconvert_exporter": "python",
   "pygments_lexer": "ipython3",
   "version": "3.9.7"
  },
  "orig_nbformat": 4,
  "vscode": {
   "interpreter": {
    "hash": "5e62c483ecf48ad4e1bb5f903abeb626d4ffc56eab47e05d9eff835eeb907be7"
   }
  }
 },
 "nbformat": 4,
 "nbformat_minor": 2
}
