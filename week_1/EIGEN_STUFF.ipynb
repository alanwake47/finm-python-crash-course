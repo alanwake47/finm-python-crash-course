{
 "cells": [
  {
   "cell_type": "markdown",
   "metadata": {},
   "source": []
  },
  {
   "cell_type": "code",
   "execution_count": 1,
   "metadata": {},
   "outputs": [],
   "source": [
    "import sympy as sp\n",
    "import numpy as np\n",
    "from scipy.integrate import quad\n",
    "from numpy import exp, log, inf, e\n",
    "from sympy import init_printing\n",
    "init_printing()\n",
    "from fractions import Fraction"
   ]
  },
  {
   "cell_type": "code",
   "execution_count": 2,
   "metadata": {},
   "outputs": [
    {
     "data": {
      "text/latex": [
       "$\\displaystyle \\left[\\begin{matrix}1 & 1 & 1 & 1\\\\0.5 & -0.666666666666667 & 0.25 & 0\\\\0.25 & 0.333333333333333 & -0.75 & 0\\end{matrix}\\right]$"
      ],
      "text/plain": [
       "⎡ 1            1             1    1⎤\n",
       "⎢                                  ⎥\n",
       "⎢0.5   -0.666666666666667  0.25   0⎥\n",
       "⎢                                  ⎥\n",
       "⎣0.25  0.333333333333333   -0.75  0⎦"
      ]
     },
     "execution_count": 2,
     "metadata": {},
     "output_type": "execute_result"
    }
   ],
   "source": [
    "A_b = sp.Matrix([[1,1,1,1],[1/2,-2/3,1/4,0],[1/4,1/3,-3/4,0]])\n",
    "A_b"
   ]
  },
  {
   "cell_type": "code",
   "execution_count": 3,
   "metadata": {},
   "outputs": [
    {
     "data": {
      "text/latex": [
       "$\\displaystyle \\left( \\left[\\begin{matrix}1 & 0 & 0 & 0.350877192982456\\\\0 & 1 & 0 & 0.368421052631579\\\\0 & 0 & 1 & 0.280701754385965\\end{matrix}\\right], \\  \\left( 0, \\  1, \\  2\\right)\\right)$"
      ],
      "text/plain": [
       "⎛⎡1  0  0  0.350877192982456⎤           ⎞\n",
       "⎜⎢                          ⎥           ⎟\n",
       "⎜⎢0  1  0  0.368421052631579⎥, (0, 1, 2)⎟\n",
       "⎜⎢                          ⎥           ⎟\n",
       "⎝⎣0  0  1  0.280701754385965⎦           ⎠"
      ]
     },
     "execution_count": 3,
     "metadata": {},
     "output_type": "execute_result"
    }
   ],
   "source": [
    "A_b.rref()"
   ]
  },
  {
   "cell_type": "code",
   "execution_count": 4,
   "metadata": {},
   "outputs": [
    {
     "data": {
      "text/latex": [
       "$\\displaystyle \\left[\\begin{matrix}0.350549768518518 & 0.368778935185185 & 0.280671296296296\\end{matrix}\\right]$"
      ],
      "text/plain": [
       "[0.350549768518518  0.368778935185185  0.280671296296296]"
      ]
     },
     "execution_count": 4,
     "metadata": {},
     "output_type": "execute_result"
    }
   ],
   "source": [
    "A = sp.Matrix([[1/4,1/2,1/4],[1/3,1/3,1/3],[1/2,1/4,1/4]])\n",
    "B = sp.Matrix([[1,0,0]])\n",
    "B@A**4"
   ]
  },
  {
   "cell_type": "code",
   "execution_count": 5,
   "metadata": {},
   "outputs": [
    {
     "data": {
      "text/latex": [
       "$\\displaystyle \\left[\\begin{matrix}1 & 0 & 0\\end{matrix}\\right]$"
      ],
      "text/plain": [
       "[1  0  0]"
      ]
     },
     "execution_count": 5,
     "metadata": {},
     "output_type": "execute_result"
    }
   ],
   "source": [
    "A = sp.Matrix([[1/4,1/2,1/4],[1/3,1/3,1/3],[1/2,1/4,1/4]])\n",
    "B = sp.Matrix([[1,0,0]])\n",
    "B"
   ]
  },
  {
   "cell_type": "code",
   "execution_count": 6,
   "metadata": {},
   "outputs": [
    {
     "data": {
      "text/latex": [
       "$\\displaystyle \\left[\\begin{matrix}0.125 & 0.375 & 0.375 & 0.125\\\\0.25 & 0.5 & 0.25 & 0\\\\0.5 & 0.5 & 0 & 0\\\\1 & 0 & 0 & 0\\end{matrix}\\right]$"
      ],
      "text/plain": [
       "⎡0.125  0.375  0.375  0.125⎤\n",
       "⎢                          ⎥\n",
       "⎢0.25    0.5   0.25     0  ⎥\n",
       "⎢                          ⎥\n",
       "⎢ 0.5    0.5     0      0  ⎥\n",
       "⎢                          ⎥\n",
       "⎣  1      0      0      0  ⎦"
      ]
     },
     "execution_count": 6,
     "metadata": {},
     "output_type": "execute_result"
    }
   ],
   "source": [
    "C = sp.Matrix([[1/8,3/8,3/8,1/8],[1/4,1/2,1/4,0],[1/2,1/2,0,0],[1,0,0,0]])\n",
    "C"
   ]
  },
  {
   "cell_type": "code",
   "execution_count": 7,
   "metadata": {},
   "outputs": [
    {
     "data": {
      "image/png": "[encoded data removed]",
      "text/latex": [
       "$\\displaystyle \\left\\{ -0.5 : 1, \\  -0.125 : 1, \\  0.25 : 1, \\  1.0 : 1\\right\\}$"
      ],
      "text/plain": [
       "{-0.5: 1, -0.125: 1, 0.25: 1, 1.0: 1}"
      ]
     },
     "execution_count": 7,
     "metadata": {},
     "output_type": "execute_result"
    }
   ],
   "source": [
    "C.T.eigenvals()"
   ]
  },
  {
   "cell_type": "code",
   "execution_count": 8,
   "metadata": {},
   "outputs": [
    {
     "data": {
      "text/plain": [
       "array([0.2962963 , 0.44444444, 0.22222222, 0.03703704])"
      ]
     },
     "execution_count": 8,
     "metadata": {},
     "output_type": "execute_result"
    }
   ],
   "source": [
    "import scipy.linalg\n",
    "H= sp.matrix2numpy(C).astype(float)\n",
    "v,l=scipy.linalg.eig(H,right=False,left=True)\n",
    "pi = l[:,0]/sum(l[:,0])\n",
    "pi"
   ]
  },
  {
   "cell_type": "code",
   "execution_count": 9,
   "metadata": {},
   "outputs": [
    {
     "data": {
      "text/latex": [
       "$\\displaystyle \\left[\\begin{matrix}0.296296296296296\\\\0.444444444444444\\\\0.222222222222222\\\\0.037037037037037\\end{matrix}\\right]$"
      ],
      "text/plain": [
       "⎡0.296296296296296⎤\n",
       "⎢                 ⎥\n",
       "⎢0.444444444444444⎥\n",
       "⎢                 ⎥\n",
       "⎢0.222222222222222⎥\n",
       "⎢                 ⎥\n",
       "⎣0.037037037037037⎦"
      ]
     },
     "execution_count": 9,
     "metadata": {},
     "output_type": "execute_result"
    }
   ],
   "source": [
    "A=sp.Matrix([[-7/8,1/4,1/2,1,0],[3/8,-1/2,1/2,0,0],[3/8,1/4,-1,0,0],[1,1,1,1,1]])\n",
    "A.rref()[0][:,4]"
   ]
  },
  {
   "cell_type": "code",
   "execution_count": 10,
   "metadata": {},
   "outputs": [
    {
     "data": {
      "text/latex": [
       "$\\displaystyle \\left[\\begin{matrix}0.296296296296296 & 0.444444444444444 & 0.222222222222222 & 0.037037037037037\\end{matrix}\\right]$"
      ],
      "text/plain": [
       "[0.296296296296296  0.444444444444444  0.222222222222222  0.037037037037037]"
      ]
     },
     "execution_count": 10,
     "metadata": {},
     "output_type": "execute_result"
    }
   ],
   "source": [
    "A.rref()[0][:,4].T@C**3"
   ]
  },
  {
   "cell_type": "code",
   "execution_count": 11,
   "metadata": {},
   "outputs": [
    {
     "data": {
      "text/latex": [
       "$\\displaystyle \\left[\\begin{matrix}0.125 & 0.375 & 0.375 & 0.125\\\\0.25 & 0.5 & 0.25 & 0\\\\0.5 & 0.5 & 0 & 0\\\\1 & 0 & 0 & 0\\end{matrix}\\right]$"
      ],
      "text/plain": [
       "⎡0.125  0.375  0.375  0.125⎤\n",
       "⎢                          ⎥\n",
       "⎢0.25    0.5   0.25     0  ⎥\n",
       "⎢                          ⎥\n",
       "⎢ 0.5    0.5     0      0  ⎥\n",
       "⎢                          ⎥\n",
       "⎣  1      0      0      0  ⎦"
      ]
     },
     "execution_count": 11,
     "metadata": {},
     "output_type": "execute_result"
    }
   ],
   "source": [
    "C"
   ]
  },
  {
   "cell_type": "code",
   "execution_count": 12,
   "metadata": {},
   "outputs": [
    {
     "data": {
      "text/latex": [
       "$\\displaystyle \\left[\\begin{matrix}0.244140625 & 0.439453125 & 0.263671875 & 0.052734375\\end{matrix}\\right]$"
      ],
      "text/plain": [
       "[0.244140625  0.439453125  0.263671875  0.052734375]"
      ]
     },
     "execution_count": 12,
     "metadata": {},
     "output_type": "execute_result"
    }
   ],
   "source": [
    "(sp.Matrix([[1,0,0,0]])@C**3)"
   ]
  },
  {
   "cell_type": "code",
   "execution_count": 51,
   "metadata": {},
   "outputs": [
    {
     "data": {
      "text/plain": [
       "array([[0.  , 0.25, 0.25, 0.25, 0.25],\n",
       "       [1.  , 0.  , 0.  , 0.  , 0.  ],\n",
       "       [0.  , 1.  , 0.  , 0.  , 0.  ],\n",
       "       [0.  , 0.  , 1.  , 0.  , 0.  ],\n",
       "       [0.  , 0.  , 0.  , 1.  , 0.  ]])"
      ]
     },
     "execution_count": 51,
     "metadata": {},
     "output_type": "execute_result"
    }
   ],
   "source": [
    "import scipy.linalg\n",
    "\n",
    "m=52\n",
    "P = sp.Matrix(np.ones((m,m))*1/(m-1)-np.eye(m)*1/(m-1))\n",
    "P = sp.matrix2numpy(P).astype(float)\n",
    "\n",
    "P= np.array([[0,0.25,0.25,0.25,0.25],[1,0,0,0,0],[0,1,0,0,0],[0,0,1,0,0],[0,0,0,1,0]])\n",
    "P\n"
   ]
  },
  {
   "cell_type": "code",
   "execution_count": 52,
   "metadata": {},
   "outputs": [
    {
     "data": {
      "text/plain": [
       "array([0.20930233, 0.27906977, 0.27906977, 0.23255814])"
      ]
     },
     "execution_count": 52,
     "metadata": {},
     "output_type": "execute_result"
    }
   ],
   "source": [
    "import scipy.linalg\n",
    "v,l=scipy.linalg.eig(P,right=False,left=True)\n",
    "\n",
    "for i in range(len(v)):\n",
    "    if all(abs(l[:,i])<1):\n",
    "        if sum(l[:,i])==1:\n",
    "            pi = l[:,i]\n",
    "            break\n",
    "pi"
   ]
  },
  {
   "cell_type": "code",
   "execution_count": 72,
   "metadata": {},
   "outputs": [
    {
     "data": {
      "image/png": "[encoded data removed]",
      "text/latex": [
       "$\\displaystyle 4.0$"
      ],
      "text/plain": [
       "4.0"
      ]
     },
     "execution_count": 72,
     "metadata": {},
     "output_type": "execute_result"
    }
   ],
   "source": [
    "P_4 = P[:4,:4]\n",
    "P_3 = np.delete(P,3,0)\n",
    "P_3 = np.delete(P_3,3,1)\n",
    "(np.linalg.inv(np.eye(4)-P_3)[0,:]).sum()"
   ]
  },
  {
   "cell_type": "code",
   "execution_count": 71,
   "metadata": {},
   "outputs": [
    {
     "data": {
      "image/png": "[encoded data removed]",
      "text/latex": [
       "$\\displaystyle 10.0$"
      ],
      "text/plain": [
       "10.0"
      ]
     },
     "execution_count": 71,
     "metadata": {},
     "output_type": "execute_result"
    }
   ],
   "source": [
    "(np.linalg.inv(np.eye(4)-P_4)[0,:]).sum()"
   ]
  },
  {
   "cell_type": "code",
   "execution_count": 73,
   "metadata": {},
   "outputs": [
    {
     "data": {
      "image/png": "[encoded data removed]",
      "text/latex": [
       "$\\displaystyle 2.66666666666667$"
      ],
      "text/plain": [
       "2.6666666666666665"
      ]
     },
     "execution_count": 73,
     "metadata": {},
     "output_type": "execute_result"
    }
   ],
   "source": [
    "P_2 = np.delete(P,2,0)\n",
    "P_2 = np.delete(P_2,2,1)\n",
    "(np.linalg.inv(np.eye(4)-P_2)[0,:]).sum()"
   ]
  },
  {
   "cell_type": "code",
   "execution_count": 15,
   "metadata": {},
   "outputs": [
    {
     "data": {
      "text/plain": [
       "matrix([[0.33333333, 0.66666667, 0.        , 0.        ],\n",
       "        [0.5       , 0.        , 0.5       , 0.        ],\n",
       "        [0.        , 0.5       , 0.        , 0.5       ],\n",
       "        [0.        , 0.        , 0.6       , 0.4       ]])"
      ]
     },
     "execution_count": 15,
     "metadata": {},
     "output_type": "execute_result"
    }
   ],
   "source": [
    "P=np.matrix([[1/3,2/3,0,0],[1/2,0,1/2,0],[0,1/2,0,1/2],[0,0,3/5,2/5]])\n",
    "P"
   ]
  },
  {
   "cell_type": "code",
   "execution_count": 16,
   "metadata": {},
   "outputs": [
    {
     "data": {
      "text/plain": [
       "matrix([[0.24861111, 0.11555556, 0.43383333, 0.202     ]])"
      ]
     },
     "execution_count": 16,
     "metadata": {},
     "output_type": "execute_result"
    }
   ],
   "source": [
    "pi_0=np.matrix([[0,0,1,0]])\n",
    "(pi_0@(P**4))"
   ]
  },
  {
   "cell_type": "code",
   "execution_count": 17,
   "metadata": {},
   "outputs": [
    {
     "data": {
      "text/plain": [
       "array([0.20930233, 0.27906977, 0.27906977, 0.23255814])"
      ]
     },
     "execution_count": 17,
     "metadata": {},
     "output_type": "execute_result"
    }
   ],
   "source": [
    "v,l=scipy.linalg.eig(P,right=False,left=True)\n",
    "pi=l[:,2]/sum(l[:,2])\n",
    "pi"
   ]
  },
  {
   "cell_type": "code",
   "execution_count": 18,
   "metadata": {},
   "outputs": [
    {
     "data": {
      "text/latex": [
       "$\\displaystyle \\left[\\begin{matrix}4.5 & 4.0 & 2.0\\\\3.0 & 4.0 & 2.0\\\\1.5 & 2.0 & 2.0\\end{matrix}\\right]$"
      ],
      "text/plain": [
       "⎡4.5  4.0  2.0⎤\n",
       "⎢             ⎥\n",
       "⎢3.0  4.0  2.0⎥\n",
       "⎢             ⎥\n",
       "⎣1.5  2.0  2.0⎦"
      ]
     },
     "execution_count": 18,
     "metadata": {},
     "output_type": "execute_result"
    }
   ],
   "source": [
    "green = (np.eye(3)-np.array([[1/3,2/3,0],[1/2,0,1/2],[0,1/2,0]]))\n",
    "sp.Matrix(green).inv()"
   ]
  },
  {
   "cell_type": "code",
   "execution_count": null,
   "metadata": {},
   "outputs": [],
   "source": []
  }
 ],
 "metadata": {
  "kernelspec": {
   "display_name": "Python 3.9.7 ('base')",
   "language": "python",
   "name": "python3"
  },
  "language_info": {
   "codemirror_mode": {
    "name": "ipython",
    "version": 3
   },
   "file_extension": ".py",
   "mimetype": "text/x-python",
   "name": "python",
   "nbconvert_exporter": "python",
   "pygments_lexer": "ipython3",
   "version": "3.9.7"
  },
  "orig_nbformat": 4,
  "vscode": {
   "interpreter": {
    "hash": "5e62c483ecf48ad4e1bb5f903abeb626d4ffc56eab47e05d9eff835eeb907be7"
   }
  }
 },
 "nbformat": 4,
 "nbformat_minor": 2
}
